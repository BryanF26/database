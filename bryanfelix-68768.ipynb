{
 "cells": [
  {
   "cell_type": "code",
   "execution_count": null,
   "metadata": {},
   "outputs": [],
   "source": [
    "from google.colab import auth\n",
    "auth.authenticate_user()\n",
    "print('Authenticated')"
   ]
  },
  {
   "cell_type": "markdown",
   "metadata": {},
   "source": [
    "from google.colab import auth\n",
    "auth.authenticate_user()\n",
    "print('Authenticated')"
   ]
  },
  {
   "cell_type": "code",
   "execution_count": null,
   "metadata": {},
   "outputs": [],
   "source": [
    "project_id = 'project-data-enginee'\n",
    "\n",
    "from google.cloud import bigquery\n",
    "\n",
    "client = bigquery.Client(project=project_id)"
   ]
  },
  {
   "cell_type": "markdown",
   "metadata": {},
   "source": [
    "**Subqueries/Nested Queries**"
   ]
  },
  {
   "cell_type": "code",
   "execution_count": null,
   "metadata": {},
   "outputs": [],
   "source": [
    "df = client.query('''\n",
    "  SELECT\n",
    "  `hash` AS transaction_hash,\n",
    "  block_hash\n",
    "FROM\n",
    "  `bigquery-public-data.crypto_bitcoin.transactions`\n",
    "WHERE\n",
    "  TIMESTAMP_TRUNC(block_timestamp, DAY) = TIMESTAMP(\"2024-08-06\")\n",
    "  AND block_hash IN (\n",
    "  SELECT\n",
    "    `hash`\n",
    "  FROM\n",
    "    `bigquery-public-data.crypto_bitcoin.blocks`\n",
    "  WHERE\n",
    "    TIMESTAMP_TRUNC(timestamp, DAY) = TIMESTAMP(\"2024-08-06\")\n",
    "    AND transaction_count = 12)\n",
    "LIMIT\n",
    "  5''').to_dataframe()\n",
    "\n",
    "df.head()"
   ]
  },
  {
   "cell_type": "markdown",
   "metadata": {},
   "source": [
    "Joins"
   ]
  },
  {
   "cell_type": "code",
   "execution_count": null,
   "metadata": {},
   "outputs": [],
   "source": [
    "df = client.query('''\n",
    "SELECT\n",
    "  t.transaction_hash,\n",
    "  t.block_hash,\n",
    "  tb.transaction_count\n",
    "FROM (\n",
    "  SELECT\n",
    "    `hash` AS transaction_hash,\n",
    "    block_hash\n",
    "  FROM\n",
    "    `bigquery-public-data.crypto_bitcoin.transactions`\n",
    "  WHERE\n",
    "    TIMESTAMP_TRUNC(block_timestamp, DAY) = TIMESTAMP(\"2024-08-06\")) AS t\n",
    "INNER JOIN (\n",
    "  SELECT\n",
    "    `hash` AS block_hash,\n",
    "    transaction_count\n",
    "  FROM\n",
    "    `bigquery-public-data.crypto_bitcoin.blocks`\n",
    "  WHERE\n",
    "    TIMESTAMP_TRUNC(timestamp, DAY) = TIMESTAMP(\"2024-08-06\")\n",
    "    AND transaction_count = 12) \n",
    "    AS tb\n",
    "ON\n",
    "  t.block_hash = tb.block_hash\n",
    "ORDER BY\n",
    "  t.transaction_hash\n",
    "LIMIT\n",
    "  5''').to_dataframe()\n",
    "\n",
    "df.head()"
   ]
  },
  {
   "cell_type": "markdown",
   "metadata": {},
   "source": [
    "Unions"
   ]
  },
  {
   "cell_type": "code",
   "execution_count": null,
   "metadata": {},
   "outputs": [],
   "source": [
    "df = client.query('''\n",
    "SELECT\n",
    "  `hash` AS block_hash,\n",
    "  `timestamp` AS block_timestamp,\n",
    "  `number` AS block_number\n",
    "FROM\n",
    "  `bigquery-public-data.crypto_bitcoin.blocks`\n",
    "WHERE\n",
    "  TIMESTAMP_TRUNC(timestamp, DAY) = TIMESTAMP(\"2024-08-06\")\n",
    "\n",
    "UNION DISTINCT\n",
    "\n",
    "SELECT\n",
    "  block_hash,\n",
    "  block_timestamp,\n",
    "  block_number\n",
    "FROM\n",
    "  `bigquery-public-data.crypto_bitcoin.transactions`\n",
    "WHERE\n",
    "  TIMESTAMP_TRUNC(block_timestamp, DAY) = TIMESTAMP(\"2024-08-06\")\n",
    "LIMIT 5''').to_dataframe()\n",
    "\n",
    "df.head()"
   ]
  },
  {
   "cell_type": "markdown",
   "metadata": {},
   "source": [
    "Aggregate Functions"
   ]
  },
  {
   "cell_type": "code",
   "execution_count": null,
   "metadata": {},
   "outputs": [],
   "source": [
    "df = client.query('''\n",
    "SELECT\n",
    "  block_hash,\n",
    "  COUNT(`hash`) AS total_transaction\n",
    "FROM\n",
    "  `bigquery-public-data.crypto_bitcoin.transactions`\n",
    "WHERE\n",
    "  TIMESTAMP_TRUNC(block_timestamp, DAY) = TIMESTAMP(\"2024-08-06\")\n",
    "  AND block_hash IN (\n",
    "    SELECT\n",
    "      `hash`\n",
    "    FROM\n",
    "      `bigquery-public-data.crypto_bitcoin.blocks`\n",
    "    WHERE\n",
    "      TIMESTAMP_TRUNC(timestamp, DAY) = TIMESTAMP(\"2024-08-06\"))\n",
    "GROUP BY\n",
    "  block_hash\n",
    "Limit 5''').to_dataframe()\n",
    "\n",
    "df.head()"
   ]
  },
  {
   "cell_type": "markdown",
   "metadata": {},
   "source": [
    "Window Functions"
   ]
  },
  {
   "cell_type": "code",
   "execution_count": null,
   "metadata": {},
   "outputs": [],
   "source": [
    "df = client.query('''\n",
    "SELECT\n",
    "  block_hash,\n",
    "  total_transaction,\n",
    "  ROW_NUMBER() OVER (ORDER BY total_transaction DESC) AS rank\n",
    "FROM (\n",
    "  SELECT\n",
    "    block_hash,\n",
    "    COUNT(`hash`) AS total_transaction\n",
    "  FROM\n",
    "    `bigquery-public-data.crypto_bitcoin.transactions`\n",
    "  WHERE\n",
    "    TIMESTAMP_TRUNC(block_timestamp, DAY) = TIMESTAMP(\"2024-08-06\")\n",
    "    AND block_hash IN (\n",
    "      SELECT\n",
    "        `hash`\n",
    "      FROM\n",
    "        `bigquery-public-data.crypto_bitcoin.blocks`\n",
    "      WHERE\n",
    "        TIMESTAMP_TRUNC(timestamp, DAY) = TIMESTAMP(\"2024-08-06\"))\n",
    "  GROUP BY\n",
    "    block_hash\n",
    ") AS transaction_counts\n",
    "ORDER BY rank\n",
    "Limit 5''').to_dataframe()\n",
    "\n",
    "df.head()\n"
   ]
  },
  {
   "cell_type": "markdown",
   "metadata": {},
   "source": [
    "Common Table Expressions (CTEs)"
   ]
  },
  {
   "cell_type": "code",
   "execution_count": null,
   "metadata": {},
   "outputs": [],
   "source": [
    "df = client.query('''\n",
    "WITH\n",
    "  transaction_block AS (\n",
    "    SELECT\n",
    "      `hash` AS transaction_hash,\n",
    "      block_hash\n",
    "    FROM\n",
    "      `bigquery-public-data.crypto_bitcoin.transactions`\n",
    "    WHERE\n",
    "      TIMESTAMP_TRUNC(block_timestamp, DAY) = TIMESTAMP(\"2024-08-06\")\n",
    "  ),\n",
    "  block_parent AS (\n",
    "    SELECT\n",
    "      `hash` AS block_hash,\n",
    "      version\n",
    "    FROM\n",
    "      `bigquery-public-data.crypto_bitcoin.blocks`\n",
    "    WHERE\n",
    "      TIMESTAMP_TRUNC(timestamp, DAY) = TIMESTAMP(\"2024-08-06\")\n",
    "      AND version = 541065216\n",
    "  )\n",
    "SELECT\n",
    "  transaction_block.transaction_hash,\n",
    "  transaction_block.block_hash,\n",
    "  block_parent.version\n",
    "FROM\n",
    "  transaction_block\n",
    "INNER JOIN\n",
    "  block_parent\n",
    "ON\n",
    "  transaction_block.block_hash = block_parent.block_hash\n",
    "ORDER BY\n",
    "  transaction_block.transaction_hash\n",
    "LIMIT\n",
    "  5''').to_dataframe()\n",
    "\n",
    "df.head()"
   ]
  },
  {
   "cell_type": "markdown",
   "metadata": {},
   "source": [
    "Pivot"
   ]
  },
  {
   "cell_type": "code",
   "execution_count": null,
   "metadata": {},
   "outputs": [],
   "source": [
    "df = client('''\n",
    "SELECT *\n",
    "FROM (\n",
    "  SELECT\n",
    "    block_hash,\n",
    "    CASE WHEN is_coinbase THEN 'Coinbase' ELSE 'Non-Coinbase' END AS transaction_type\n",
    "  FROM\n",
    "    `bigquery-public-data.crypto_bitcoin.transactions`\n",
    "  WHERE\n",
    "    TIMESTAMP_TRUNC(block_timestamp, DAY) = TIMESTAMP(\"2024-08-06\")\n",
    ") AS src\n",
    "PIVOT (\n",
    "  COUNT(transaction_type)\n",
    "  FOR transaction_type IN ('Coinbase' AS coinbase_transactions, 'Non-Coinbase' AS non_coinbase_transactions)\n",
    ") AS pvt\n",
    "ORDER BY block_hash\n",
    "LIMIT 5;''').to_dataframe()\n",
    "\n",
    "df.head()"
   ]
  },
  {
   "cell_type": "markdown",
   "metadata": {},
   "source": [
    "String Manipulation"
   ]
  },
  {
   "cell_type": "code",
   "execution_count": null,
   "metadata": {},
   "outputs": [],
   "source": [
    "df = client('''\n",
    "SELECT\n",
    "  block_hash,\n",
    "  SUBSTR(block_hash, 1, 10) AS short_block_hash,\n",
    "  transaction_hash\n",
    "FROM\n",
    "  `bigquery-public-data.crypto_bitcoin.transactions`\n",
    "WHERE\n",
    "  TIMESTAMP_TRUNC(block_timestamp, DAY) = TIMESTAMP(\"2024-08-06\")\n",
    "LIMIT\n",
    "  5;\n",
    "''').to_dataframe()\n",
    "\n",
    "df.head()"
   ]
  },
  {
   "cell_type": "markdown",
   "metadata": {},
   "source": [
    "Date and Time"
   ]
  },
  {
   "cell_type": "code",
   "execution_count": null,
   "metadata": {},
   "outputs": [],
   "source": [
    "df = client('''\n",
    "SELECT\n",
    "  block_hash,\n",
    "  block_timestamp,\n",
    "  EXTRACT(YEAR FROM block_timestamp) AS transaction_year,\n",
    "  EXTRACT(MONTH FROM block_timestamp) AS transaction_month,\n",
    "  EXTRACT(DAY FROM block_timestamp) AS transaction_day\n",
    "FROM\n",
    "  `bigquery-public-data.crypto_bitcoin.transactions`\n",
    "WHERE\n",
    "  TIMESTAMP_TRUNC(block_timestamp, DAY) = TIMESTAMP(\"2024-08-06\")\n",
    "LIMIT\n",
    "  5;\n",
    "''').to_dataframe()\n",
    "\n",
    "df.head()"
   ]
  },
  {
   "cell_type": "markdown",
   "metadata": {},
   "source": [
    "Case Statement"
   ]
  },
  {
   "cell_type": "code",
   "execution_count": null,
   "metadata": {},
   "outputs": [],
   "source": [
    "df = client('''\n",
    "SELECT\n",
    "  block_hash,\n",
    "  transaction_hash,\n",
    "  size,\n",
    "  CASE\n",
    "    WHEN size < 200 THEN 'Small'\n",
    "    WHEN size BETWEEN 200 AND 300 THEN 'Medium'\n",
    "    ELSE 'Large'\n",
    "  END AS transaction_size_category\n",
    "FROM\n",
    "  `bigquery-public-data.crypto_bitcoin.transactions`\n",
    "WHERE\n",
    "  TIMESTAMP_TRUNC(block_timestamp, DAY) = TIMESTAMP(\"2024-08-06\")\n",
    "LIMIT\n",
    "  5;\n",
    "''').to_dataframe()\n",
    "\n",
    "df.head()"
   ]
  },
  {
   "cell_type": "markdown",
   "metadata": {},
   "source": [
    "Recrusive Queries"
   ]
  },
  {
   "cell_type": "code",
   "execution_count": null,
   "metadata": {},
   "outputs": [],
   "source": [
    "df = client('''\n",
    "WITH RECURSIVE block_hierarchy AS (\n",
    "  SELECT\n",
    "    `hash` AS block_hash,\n",
    "    block_number,\n",
    "    1 AS level\n",
    "  FROM\n",
    "    `bigquery-public-data.crypto_bitcoin.blocks`\n",
    "  WHERE\n",
    "    block_number = 367853\n",
    "\n",
    "  UNION ALL\n",
    "\n",
    "  SELECT\n",
    "    b.`hash` AS block_hash,\n",
    "    b.block_number,\n",
    "    bh.level + 1\n",
    "  FROM\n",
    "    `bigquery-public-data.crypto_bitcoin.blocks` AS b\n",
    "  INNER JOIN\n",
    "    block_hierarchy AS bh ON b.block_number = bh.block_number + 1\n",
    ")\n",
    "\n",
    "SELECT\n",
    "  block_hash,\n",
    "  block_number,\n",
    "  level\n",
    "FROM\n",
    "  block_hierarchy\n",
    "ORDER BY\n",
    "  level, block_number;\n",
    "\n",
    "''').to_dataframe()\n",
    "\n",
    "df.head()"
   ]
  },
  {
   "cell_type": "markdown",
   "metadata": {},
   "source": [
    "UDF\n"
   ]
  },
  {
   "cell_type": "code",
   "execution_count": null,
   "metadata": {},
   "outputs": [],
   "source": [
    "df = client('''\n",
    "CREATE TEMP FUNCTION \n",
    "    calculate_fee(input_value FLOAT64, output_value FLOAT64) as (\n",
    "        input_value - output_value\n",
    "    );\n",
    "\n",
    "SELECT\n",
    "  t.hash AS transaction_hash,\n",
    "  t.input_value,\n",
    "  t.output_value,\n",
    "  calculate_fee(t.input_value, t.output_value) AS transaction_fee\n",
    "FROM\n",
    "  `bigquery-public-data.crypto_bitcoin.transactions` AS t\n",
    "WHERE\n",
    "  t.block_number = 367853\n",
    "ORDER BY\n",
    "  t.hash;\n",
    "''').to_dataframe()\n",
    "\n",
    "df.head()"
   ]
  }
 ],
 "metadata": {
  "kernelspec": {
   "display_name": "Python 3",
   "language": "python",
   "name": "python3"
  },
  "language_info": {
   "name": "python",
   "version": "3.12.6"
  }
 },
 "nbformat": 4,
 "nbformat_minor": 2
}
